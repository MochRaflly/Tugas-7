{
  "nbformat": 4,
  "nbformat_minor": 0,
  "metadata": {
    "colab": {
      "provenance": [],
      "toc_visible": true,
      "authorship_tag": "ABX9TyMNTb856DbolslMkaiIwrKK",
      "include_colab_link": true
    },
    "kernelspec": {
      "name": "python3",
      "display_name": "Python 3"
    },
    "language_info": {
      "name": "python"
    }
  },
  "cells": [
    {
      "cell_type": "markdown",
      "metadata": {
        "id": "view-in-github",
        "colab_type": "text"
      },
      "source": [
        "<a href=\"https://colab.research.google.com/github/MochRaflly/Tugas-7/blob/main/Tugas_7_sewa_gedung_.ipynb\" target=\"_parent\"><img src=\"https://colab.research.google.com/assets/colab-badge.svg\" alt=\"Open In Colab\"/></a>"
      ]
    },
    {
      "cell_type": "markdown",
      "source": [],
      "metadata": {
        "id": "3BVtfhhfrRfG"
      }
    },
    {
      "cell_type": "code",
      "execution_count": 16,
      "metadata": {
        "colab": {
          "base_uri": "https://localhost:8080/"
        },
        "id": "8CphmW2obzp3",
        "outputId": "fc78e50b-5c78-4247-85dc-04748f5ce1d5"
      },
      "outputs": [
        {
          "output_type": "stream",
          "name": "stdout",
          "text": [
            "Biaya sewa untuk Gedung A selama 6 jam di hari kerja adalah: 2565000.00\n",
            "Biaya sewa untuk Gedung B selama 4 jam adalah: 3000000.00\n",
            "Biaya sewa untuk Gedung A selama 3 jam adalah: 1500000.00\n"
          ]
        }
      ],
      "source": [
        "import numpy as np\n",
        "\n",
        "class GedungSewa:\n",
        "    def __init__(self, nama_gedung, harga_per_jam, diskon_hari_kerja=0.05, diskon_durasi=0.10):\n",
        "        self.nama_gedung = nama_gedung\n",
        "        self.harga_per_jam = harga_per_jam\n",
        "        self.diskon_hari_kerja = diskon_hari_kerja\n",
        "        self.diskon_durasi = diskon_durasi\n",
        "\n",
        "    def hitung_biaya(self, durasi_jam, hari_kerja=False):\n",
        "        # Menghitung biaya awal\n",
        "        total_harga = self.harga_per_jam * durasi_jam\n",
        "\n",
        "        # Mengaplikasikan diskon durasi\n",
        "        if durasi_jam > 5:\n",
        "            total_harga *= (1 - self.diskon_durasi)\n",
        "\n",
        "        # Mengaplikasikan diskon hari kerja\n",
        "        if hari_kerja:\n",
        "            total_harga *= (1 - self.diskon_hari_kerja)\n",
        "\n",
        "        return total_harga\n",
        "\n",
        "    def __str__(self):\n",
        "        return f\"Gedung {self.nama_gedung} dengan harga per jam {self.harga_per_jam}\"\n",
        "\n",
        "class SewaGedung:\n",
        "    def __init__(self):\n",
        "        # Menyimpan data gedung dalam array NumPy\n",
        "        self.gedung_list = np.array([])\n",
        "\n",
        "    def tambah_gedung(self, gedung):\n",
        "        # Menambahkan gedung ke dalam list menggunakan np.append\n",
        "        self.gedung_list = np.append(self.gedung_list, gedung)\n",
        "\n",
        "    def tampilkan_gedung(self):\n",
        "        for gedung in self.gedung_list:\n",
        "            print(gedung)\n",
        "\n",
        "    def simulasi_sewa(self, nama_gedung, durasi_jam, hari_kerja=False):\n",
        "        # Mencari gedung dengan nama yang sesuai\n",
        "        gedung = next((g for g in self.gedung_list if g.nama_gedung == nama_gedung), None)\n",
        "        if gedung:\n",
        "            biaya = gedung.hitung_biaya(durasi_jam, hari_kerja)\n",
        "            print(f\"Biaya sewa untuk {gedung.nama_gedung} selama {durasi_jam} jam{' di hari kerja' if hari_kerja else ''} adalah: {biaya:.2f}\")\n",
        "        else:\n",
        "            print(f\"Gedung dengan nama {nama_gedung} tidak ditemukan.\")\n",
        "\n",
        "# Membuat objek gedung sewa\n",
        "gedung1 = GedungSewa(\"Gedung A\", 500000)\n",
        "gedung2 = GedungSewa(\"Gedung B\", 750000)\n",
        "\n",
        "# Menambahkan gedung ke daftar sewa\n",
        "sewa = SewaGedung()\n",
        "sewa.tambah_gedung(gedung1)\n",
        "sewa.tambah_gedung(gedung2)\n",
        "\n",
        "# Simulasi sewa\n",
        "sewa.simulasi_sewa(\"Gedung A\", 6, hari_kerja=True)\n",
        "sewa.simulasi_sewa(\"Gedung B\", 4, hari_kerja=False)\n",
        "sewa.simulasi_sewa(\"Gedung A\", 3, hari_kerja=False)\n"
      ]
    },
    {
      "cell_type": "markdown",
      "source": [
        "# Bagian Baru"
      ],
      "metadata": {
        "id": "IMWJPOaMHTpa"
      }
    },
    {
      "cell_type": "markdown",
      "source": [],
      "metadata": {
        "id": "-aGAIlfocsnk"
      }
    }
  ]
}